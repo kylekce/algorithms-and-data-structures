{
  "nbformat": 4,
  "nbformat_minor": 0,
  "metadata": {
    "colab": {
      "provenance": [],
      "toc_visible": true,
      "authorship_tag": "ABX9TyMEsk1ajQS8qbFif6sP2E+N",
      "include_colab_link": true
    },
    "kernelspec": {
      "name": "python3",
      "display_name": "Python 3"
    },
    "language_info": {
      "name": "python"
    }
  },
  "cells": [
    {
      "cell_type": "markdown",
      "metadata": {
        "id": "view-in-github",
        "colab_type": "text"
      },
      "source": [
        "<a href=\"https://colab.research.google.com/github/kylekce/algorithms-and-data-structures/blob/main/Data_Structures.ipynb\" target=\"_parent\"><img src=\"https://colab.research.google.com/assets/colab-badge.svg\" alt=\"Open In Colab\"/></a>"
      ]
    },
    {
      "cell_type": "markdown",
      "source": [
        "# Linked List"
      ],
      "metadata": {
        "id": "3utvZVKW4r1U"
      }
    },
    {
      "cell_type": "code",
      "execution_count": null,
      "metadata": {
        "colab": {
          "base_uri": "https://localhost:8080/"
        },
        "id": "xoOFBdSnxmXZ",
        "outputId": "e8d21d21-16cc-4eac-9554-57e04dcc9a01"
      },
      "outputs": [
        {
          "output_type": "stream",
          "name": "stdout",
          "text": [
            "3 --> 4 --> 5 --> 6 --> 7 --> \n",
            "3 --> 4 --> 5 --> 7 --> \n"
          ]
        }
      ],
      "source": [
        "class Node:\n",
        "  def __init__(self, data = None, next = None):\n",
        "    self.data = data\n",
        "    self.next = next\n",
        "\n",
        "class Linked_List:\n",
        "  def __init__(self):\n",
        "    self.head = None\n",
        "\n",
        "  def insert_at_beginning(self, data):\n",
        "    node = Node(data, self.head)\n",
        "    self.head = node\n",
        "\n",
        "  def insert_at_end(self, data):\n",
        "    if self.head is None:\n",
        "      self.head = Node(data, None)\n",
        "      return\n",
        "\n",
        "    # Place the itr at the end\n",
        "    itr = self.head\n",
        "    while itr.next:\n",
        "      itr = itr.next\n",
        "\n",
        "    itr.next = Node(data, None)\n",
        "\n",
        "  def get_length(self):\n",
        "    count = 0\n",
        "    itr = self.head\n",
        "\n",
        "    while itr:\n",
        "      count += 1\n",
        "      itr = itr.next\n",
        "\n",
        "    return count\n",
        "\n",
        "  def remove_at(self, index):\n",
        "    if index < 0 or index >= self.get_length():\n",
        "      print(\"Invalid index\")\n",
        "      return\n",
        "\n",
        "    if index == 0:\n",
        "      self.head = self.head.next\n",
        "      return\n",
        "\n",
        "    count = 0\n",
        "    itr = self.head\n",
        "    while itr:\n",
        "      if count == index - 1:\n",
        "        itr.next = itr.next.next\n",
        "        break\n",
        "\n",
        "      count +=1\n",
        "      itr = itr.next\n",
        "\n",
        "  def print(self):\n",
        "    if self.head is None:\n",
        "      print(\"Linked List is empty\")\n",
        "      return\n",
        "\n",
        "    itr = self.head\n",
        "    output = \"\"\n",
        "    while itr:\n",
        "      output += str(itr.data) + \" --> \"\n",
        "      itr = itr.next\n",
        "\n",
        "    print(output)\n",
        "\n",
        "ll = Linked_List()\n",
        "ll.insert_at_beginning(5)\n",
        "ll.insert_at_beginning(4)\n",
        "ll.insert_at_beginning(3)\n",
        "ll.insert_at_end(6)\n",
        "ll.insert_at_end(7)\n",
        "ll.print()\n",
        "\n",
        "ll.remove_at(3)\n",
        "ll.print()"
      ]
    },
    {
      "cell_type": "markdown",
      "source": [
        "# Stack"
      ],
      "metadata": {
        "id": "XcuxVXMUH0hN"
      }
    },
    {
      "cell_type": "code",
      "source": [
        "stack = []\n",
        "\n",
        "stack.append(1)\n",
        "stack.append(2)\n",
        "stack.append(3)\n",
        "print(stack)\n",
        "\n",
        "print(stack.pop())"
      ],
      "metadata": {
        "colab": {
          "base_uri": "https://localhost:8080/"
        },
        "id": "0Da4L0PqIEAa",
        "outputId": "e79209d1-0d42-40b1-e4a6-7cfc19e7e37b"
      },
      "execution_count": null,
      "outputs": [
        {
          "output_type": "stream",
          "name": "stdout",
          "text": [
            "[1, 2, 3]\n",
            "3\n"
          ]
        }
      ]
    },
    {
      "cell_type": "markdown",
      "source": [
        "# Queue"
      ],
      "metadata": {
        "id": "MdVrAKeiIUr4"
      }
    },
    {
      "cell_type": "code",
      "source": [
        "stack = []\n",
        "\n",
        "stack.insert(0, 1)\n",
        "stack.insert(0, 2)\n",
        "stack.insert(0, 3)\n",
        "print(stack)\n",
        "\n",
        "print(stack.pop())"
      ],
      "metadata": {
        "colab": {
          "base_uri": "https://localhost:8080/"
        },
        "id": "59cfDXbUIycd",
        "outputId": "10e10bf2-756c-45ae-eb51-0af43aef3cc1"
      },
      "execution_count": null,
      "outputs": [
        {
          "output_type": "stream",
          "name": "stdout",
          "text": [
            "[3, 2, 1]\n",
            "1\n"
          ]
        }
      ]
    },
    {
      "cell_type": "code",
      "source": [
        "from collections import deque\n",
        "\n",
        "q = deque()\n",
        "q.appendleft(1)\n",
        "q.appendleft(2)\n",
        "q.appendleft(3)\n",
        "print(q)\n",
        "\n",
        "print(q.pop())"
      ],
      "metadata": {
        "colab": {
          "base_uri": "https://localhost:8080/"
        },
        "id": "9cVFB3OEIWrf",
        "outputId": "e1b408df-0c16-47d9-bf53-69b27ede9152"
      },
      "execution_count": null,
      "outputs": [
        {
          "output_type": "stream",
          "name": "stdout",
          "text": [
            "deque([3, 2, 1])\n",
            "1\n"
          ]
        }
      ]
    }
  ]
}